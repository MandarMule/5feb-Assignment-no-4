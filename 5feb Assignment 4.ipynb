{
 "cells": [
  {
   "cell_type": "code",
   "execution_count": null,
   "id": "a07b554d-101e-41c1-a667-1ba4f8f88da0",
   "metadata": {},
   "outputs": [],
   "source": [
    "Q.1.Explain Class and Object with respect to Object-Oriented Programming. Give a suitable example."
   ]
  },
  {
   "cell_type": "code",
   "execution_count": null,
   "id": "d15f9c40-2d91-4e6c-a4f8-881c7d068756",
   "metadata": {},
   "outputs": [],
   "source": [
    "Class and objects are the basic components of OOPS.Class is user defined layout or blueprint that defines variables and methods that common to all objects of certain kinds.\n",
    "Class consist of two things -1)attributes or member variable 2) member methods/ function\n",
    "Foe ex. Mobile phone has attributes of RAM, ROM, Camera quality, display, so the \"Mobile Phones\" is class having various attributes(object)\n",
    "\n",
    "Objects are instances that constist of data and methods working on that data. Object consist of 1) name, 2) member data 3) member method\n",
    "for ex. oneplus nord CE 2 lite is object with brand name oneplus, 4GB ram property and calling behaviour."
   ]
  },
  {
   "cell_type": "code",
   "execution_count": null,
   "id": "b0741074-70f0-44a6-ac97-ed9f046a2745",
   "metadata": {},
   "outputs": [],
   "source": [
    "Q2. Name the four pillars of OOPs."
   ]
  },
  {
   "cell_type": "code",
   "execution_count": null,
   "id": "c8888901-aef4-4ad2-a4fd-e404dcf78c30",
   "metadata": {},
   "outputs": [],
   "source": [
    "Inheritance, Polymorphism, Encapsulation and Abstraction are the pillers of OOPs\n",
    "1) Inheritance is the process in which two classes have a relationship with each other, and objects of one class acquire properties and \n",
    "features of the other class.\n",
    "2)The word polymorphism means having many forms. It is the ability to take more than one form.\n",
    "3)Encapsulation also hides the data.\n",
    "4)Abstraction means displaying only basic information and hiding the details. Data abstraction refers to providing only necessary \n",
    "information about the data to the outside world"
   ]
  },
  {
   "cell_type": "code",
   "execution_count": null,
   "id": "4f49cd7f-340f-4f80-afe2-766e376d81bd",
   "metadata": {},
   "outputs": [],
   "source": [
    "Q3. Explain why the __init__() function is used. Give a suitable example."
   ]
  },
  {
   "cell_type": "code",
   "execution_count": null,
   "id": "dba3bc4f-e301-44d8-824f-d8163ac00afe",
   "metadata": {},
   "outputs": [],
   "source": [
    "__init__()is used at time of creating class. It initialize the attributes of that class."
   ]
  },
  {
   "cell_type": "code",
   "execution_count": 4,
   "id": "c5d9e5a6-4b1b-444c-817e-e3c13b306bc6",
   "metadata": {},
   "outputs": [
    {
     "data": {
      "text/plain": [
       "('Goa', 'sunday')"
      ]
     },
     "execution_count": 4,
     "metadata": {},
     "output_type": "execute_result"
    }
   ],
   "source": [
    "class trip:\n",
    "    def __init__(self,place,date):\n",
    "        self.place = place\n",
    "        self.date = date\n",
    "    \n",
    "    def trip_details(self):\n",
    "        return self.place,self.date\n",
    "    \n",
    "t = trip(\"Goa\", \"sunday\")\n",
    "t.trip_details()"
   ]
  },
  {
   "cell_type": "code",
   "execution_count": null,
   "id": "f6c14a57-f2da-40a0-ae01-f058e95c5234",
   "metadata": {},
   "outputs": [],
   "source": [
    "here class is trip and t is object.As soon as object created __init__() initialized with value GOA and Sunday which are assigned to place \n",
    "and city."
   ]
  },
  {
   "cell_type": "code",
   "execution_count": null,
   "id": "7802464e-2ce9-40ba-89c4-c97cf1b17308",
   "metadata": {},
   "outputs": [],
   "source": [
    "Q4. Why self is used in OOPs?"
   ]
  },
  {
   "cell_type": "code",
   "execution_count": null,
   "id": "8a6bb3d2-d788-4100-8e7b-ff1b583ff11d",
   "metadata": {},
   "outputs": [],
   "source": [
    "self represents instance of the class. work as reference to object"
   ]
  },
  {
   "cell_type": "code",
   "execution_count": null,
   "id": "04187a73-b786-49e6-8873-8e1338315017",
   "metadata": {},
   "outputs": [],
   "source": [
    "Q5. What is inheritance? Give an example for each type of inheritance."
   ]
  },
  {
   "cell_type": "code",
   "execution_count": null,
   "id": "8ef23cfe-f142-42b4-8b56-e4f90a7bcd63",
   "metadata": {},
   "outputs": [],
   "source": [
    "Inheritance is defined as the mechanism of inheriting the properties of the base class to the child class\n",
    "following are types of inheritance in OOPs-\n",
    "1)Single Inheritance: Single inheritance enables a derived class to inherit properties from a single parent class\n",
    "\n",
    "2)Multiple Inheritance: When a class can be derived from more than one base class this type of inheritance is called multiple inheritances. \n",
    "In multiple inheritances, all the features of the base classes are inherited into the derived class.\n",
    "\n",
    "3)Multilevel Inheritance : In multilevel inheritance, features of the base class and the derived class are further inherited into the new derived class. \n",
    "This is similar to a relationship representing a child and a grandfather. \n",
    "\n",
    "4)Hierarchical Inheritance: When more than one derived class are created from a single base this type of inheritance is called hierarchical inheritance. \n",
    "In this program, we have a parent (base) class and two child (derived) classes."
   ]
  }
 ],
 "metadata": {
  "kernelspec": {
   "display_name": "Python 3 (ipykernel)",
   "language": "python",
   "name": "python3"
  },
  "language_info": {
   "codemirror_mode": {
    "name": "ipython",
    "version": 3
   },
   "file_extension": ".py",
   "mimetype": "text/x-python",
   "name": "python",
   "nbconvert_exporter": "python",
   "pygments_lexer": "ipython3",
   "version": "3.10.8"
  }
 },
 "nbformat": 4,
 "nbformat_minor": 5
}
